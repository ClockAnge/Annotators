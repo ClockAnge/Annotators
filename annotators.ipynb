{
 "cells": [
  {
   "cell_type": "code",
   "execution_count": 1,
   "id": "af7f2624",
   "metadata": {},
   "outputs": [],
   "source": [
    "import pandas as pd\n",
    "import numpy as np\n",
    "from tqdm.notebook import tqdm"
   ]
  },
  {
   "cell_type": "code",
   "execution_count": 2,
   "id": "32033d29",
   "metadata": {},
   "outputs": [],
   "source": [
    "denis = pd.read_json(\"denis.json\")\n",
    "slava = pd.read_json(\"slava.json\")\n",
    "gena = pd.read_json(\"gena.json\")"
   ]
  },
  {
   "cell_type": "code",
   "execution_count": 3,
   "id": "e3ed8437",
   "metadata": {},
   "outputs": [],
   "source": [
    "def preproc_json(df: pd.DataFrame, slava_texts=False) -> pd.DataFrame:\n",
    "\n",
    "    dfs = []\n",
    "    for id_ in df.id:\n",
    "        if slava_texts:\n",
    "            id_ -= 800\n",
    "        try:\n",
    "            temp_df = pd.json_normalize(\n",
    "                              pd.json_normalize(\n",
    "                                  pd.json_normalize(\n",
    "                                      pd.json_normalize(df.annotations)[0]\n",
    "                                  ).result\n",
    "                              ).T[id_-1])[[\"value.text\", \"value.labels\"]].dropna()\n",
    "            temp_df[\"value.labels\"] = temp_df[\"value.labels\"].astype(str)\n",
    "            temp_df[\"value.text\"] = temp_df[\"value.text\"].str.lower().str.strip()\n",
    "            temp_df[\"id\"] = id_\n",
    "            dfs.append(temp_df)\n",
    "        except:\n",
    "            pass\n",
    "    return pd.concat(dfs, ignore_index=True)"
   ]
  },
  {
   "cell_type": "code",
   "execution_count": 4,
   "id": "74daf7b1",
   "metadata": {},
   "outputs": [],
   "source": [
    "preproc_denis = preproc_json(denis)\n",
    "preproc_slava = preproc_json(slava, slava_texts=True)\n",
    "preproc_gena = preproc_json(gena)"
   ]
  },
  {
   "cell_type": "code",
   "execution_count": 5,
   "id": "93f8e8f4",
   "metadata": {},
   "outputs": [],
   "source": [
    "def get_text_annotators(preproc_denis: pd.DataFrame, \n",
    "                        preproc_gena: pd.DataFrame,\n",
    "                        preproc_slava: pd.DataFrame,\n",
    "                        id_: int) -> pd.DataFrame:\n",
    "\n",
    "    t1 = preproc_denis[preproc_denis[\"id\"] == id_].copy()\n",
    "    t2 = preproc_gena[preproc_gena[\"id\"] == id_].copy()\n",
    "    t3 = preproc_slava[preproc_slava[\"id\"] == id_].copy()\n",
    "\n",
    "    text_df = t1.merge(t2.merge(t3, how=\"cross\").drop_duplicates(), how=\"cross\").drop_duplicates()\n",
    "    text_df = text_df[(text_df[\"value.text\"] == text_df[\"value.text_x\"])\n",
    "                      | (text_df[\"value.text\"] == text_df[\"value.text_y\"])\n",
    "                      | (text_df[\"value.text_x\"] == text_df[\"value.text_y\"])]\n",
    "\n",
    "    text_df[\"word\"] = text_df[['value.text', 'value.text_x', 'value.text_y']].mode(axis=1)\n",
    "    text_df[\"word_count\"] = text_df[['value.text', 'value.text_x', 'value.text_y']]\\\n",
    "                            .apply(pd.Series.value_counts, axis=1).max(axis=1)\n",
    "    text_df = text_df.sort_values(by=[\"word\", \"word_count\"], ascending=False).drop_duplicates(subset=\"word\")\n",
    "\n",
    "    text_df[\"value.labels\"] = np.where((text_df[\"value.text\"] != text_df[\"value.text_x\"])\n",
    "                                    & (text_df[\"value.text\"] != text_df[\"value.text_y\"]), None, text_df[\"value.labels\"])\n",
    "\n",
    "    text_df[\"value.labels_x\"] = np.where((text_df[\"value.text_x\"] != text_df[\"value.text\"])\n",
    "                                   & (text_df[\"value.text_x\"] != text_df[\"value.text_y\"]), None, text_df[\"value.labels_x\"])\n",
    "\n",
    "    text_df[\"value.labels_y\"] = np.where((text_df[\"value.text_y\"] != text_df[\"value.text\"])\n",
    "                                    & (text_df[\"value.text_y\"] != text_df[\"value.text_x\"]), None, text_df[\"value.labels_y\"])\n",
    "\n",
    "    text_df = text_df.sort_values(by=[\"word\", \"word_count\"], ascending=False).drop_duplicates(subset=\"word\")\n",
    "\n",
    "    text_df = text_df[[\"id\", \"word\", \"value.labels\", \"value.labels_x\", \"value.labels_y\"]]\\\n",
    "              .rename(columns = {\"value.labels\": \"denis_annotation\", \n",
    "                                 \"value.labels_x\": \"gennady_annotation\",\n",
    "                                 \"value.labels_y\": \"vyacheslav_annotation\"})\n",
    "    return text_df\n",
    "\n",
    "def final_annotators(preproc_denis: pd.DataFrame, \n",
    "                     preproc_gena: pd.DataFrame,\n",
    "                     preproc_slava: pd.DataFrame)-> pd.DataFrame:\n",
    "    dfs = []\n",
    "    for id_ in tqdm(preproc_denis.id.unique()):\n",
    "        try:\n",
    "            dfs.append(get_text_annotators(preproc_denis, preproc_gena, preproc_slava, id_))\n",
    "        except:\n",
    "            pass\n",
    "    return pd.concat(dfs, ignore_index=True)"
   ]
  },
  {
   "cell_type": "code",
   "execution_count": 6,
   "id": "b8ebd71a",
   "metadata": {},
   "outputs": [
    {
     "data": {
      "application/vnd.jupyter.widget-view+json": {
       "model_id": "827e096406a249caa3c35b7b4aafa255",
       "version_major": 2,
       "version_minor": 0
      },
      "text/plain": [
       "  0%|          | 0/29 [00:00<?, ?it/s]"
      ]
     },
     "metadata": {},
     "output_type": "display_data"
    }
   ],
   "source": [
    "annotators_df = final_annotators(preproc_denis, preproc_gena, preproc_slava)"
   ]
  },
  {
   "cell_type": "code",
   "execution_count": 7,
   "id": "688584b8",
   "metadata": {
    "scrolled": true
   },
   "outputs": [
    {
     "data": {
      "text/html": [
       "<div>\n",
       "<style scoped>\n",
       "    .dataframe tbody tr th:only-of-type {\n",
       "        vertical-align: middle;\n",
       "    }\n",
       "\n",
       "    .dataframe tbody tr th {\n",
       "        vertical-align: top;\n",
       "    }\n",
       "\n",
       "    .dataframe thead th {\n",
       "        text-align: right;\n",
       "    }\n",
       "</style>\n",
       "<table border=\"1\" class=\"dataframe\">\n",
       "  <thead>\n",
       "    <tr style=\"text-align: right;\">\n",
       "      <th></th>\n",
       "      <th>id</th>\n",
       "      <th>word</th>\n",
       "      <th>denis_annotation</th>\n",
       "      <th>gennady_annotation</th>\n",
       "      <th>vyacheslav_annotation</th>\n",
       "    </tr>\n",
       "  </thead>\n",
       "  <tbody>\n",
       "    <tr>\n",
       "      <th>0</th>\n",
       "      <td>1</td>\n",
       "      <td>нож</td>\n",
       "      <td>['PRODUCT']</td>\n",
       "      <td>['PRODUCT']</td>\n",
       "      <td>None</td>\n",
       "    </tr>\n",
       "    <tr>\n",
       "      <th>1</th>\n",
       "      <td>1</td>\n",
       "      <td>на мели</td>\n",
       "      <td>['LOC']</td>\n",
       "      <td>['LOC']</td>\n",
       "      <td>['LOC']</td>\n",
       "    </tr>\n",
       "    <tr>\n",
       "      <th>2</th>\n",
       "      <td>2</td>\n",
       "      <td>свеча</td>\n",
       "      <td>['PRODUCT']</td>\n",
       "      <td>['PRODUCT']</td>\n",
       "      <td>None</td>\n",
       "    </tr>\n",
       "    <tr>\n",
       "      <th>3</th>\n",
       "      <td>2</td>\n",
       "      <td>мире</td>\n",
       "      <td>['LOC']</td>\n",
       "      <td>['LOC']</td>\n",
       "      <td>None</td>\n",
       "    </tr>\n",
       "    <tr>\n",
       "      <th>4</th>\n",
       "      <td>2</td>\n",
       "      <td>между строчек</td>\n",
       "      <td>None</td>\n",
       "      <td>['LOC']</td>\n",
       "      <td>['LOC']</td>\n",
       "    </tr>\n",
       "    <tr>\n",
       "      <th>...</th>\n",
       "      <td>...</td>\n",
       "      <td>...</td>\n",
       "      <td>...</td>\n",
       "      <td>...</td>\n",
       "      <td>...</td>\n",
       "    </tr>\n",
       "    <tr>\n",
       "      <th>115</th>\n",
       "      <td>28</td>\n",
       "      <td>в песчаных белых снегах</td>\n",
       "      <td>['LOC']</td>\n",
       "      <td>None</td>\n",
       "      <td>['LOC']</td>\n",
       "    </tr>\n",
       "    <tr>\n",
       "      <th>116</th>\n",
       "      <td>29</td>\n",
       "      <td>на окнах</td>\n",
       "      <td>['LOC']</td>\n",
       "      <td>['LOC']</td>\n",
       "      <td>['LOC']</td>\n",
       "    </tr>\n",
       "    <tr>\n",
       "      <th>117</th>\n",
       "      <td>29</td>\n",
       "      <td>в слезах</td>\n",
       "      <td>None</td>\n",
       "      <td>['LOC']</td>\n",
       "      <td>['LOC']</td>\n",
       "    </tr>\n",
       "    <tr>\n",
       "      <th>118</th>\n",
       "      <td>29</td>\n",
       "      <td>в прошлом</td>\n",
       "      <td>None</td>\n",
       "      <td>['LOC']</td>\n",
       "      <td>['LOC']</td>\n",
       "    </tr>\n",
       "    <tr>\n",
       "      <th>119</th>\n",
       "      <td>29</td>\n",
       "      <td>в моей груди</td>\n",
       "      <td>None</td>\n",
       "      <td>['LOC']</td>\n",
       "      <td>['LOC']</td>\n",
       "    </tr>\n",
       "  </tbody>\n",
       "</table>\n",
       "<p>120 rows × 5 columns</p>\n",
       "</div>"
      ],
      "text/plain": [
       "     id                     word denis_annotation gennady_annotation  \\\n",
       "0     1                      нож      ['PRODUCT']        ['PRODUCT']   \n",
       "1     1                  на мели          ['LOC']            ['LOC']   \n",
       "2     2                    свеча      ['PRODUCT']        ['PRODUCT']   \n",
       "3     2                     мире          ['LOC']            ['LOC']   \n",
       "4     2            между строчек             None            ['LOC']   \n",
       "..   ..                      ...              ...                ...   \n",
       "115  28  в песчаных белых снегах          ['LOC']               None   \n",
       "116  29                 на окнах          ['LOC']            ['LOC']   \n",
       "117  29                 в слезах             None            ['LOC']   \n",
       "118  29                в прошлом             None            ['LOC']   \n",
       "119  29             в моей груди             None            ['LOC']   \n",
       "\n",
       "    vyacheslav_annotation  \n",
       "0                    None  \n",
       "1                 ['LOC']  \n",
       "2                    None  \n",
       "3                    None  \n",
       "4                 ['LOC']  \n",
       "..                    ...  \n",
       "115               ['LOC']  \n",
       "116               ['LOC']  \n",
       "117               ['LOC']  \n",
       "118               ['LOC']  \n",
       "119               ['LOC']  \n",
       "\n",
       "[120 rows x 5 columns]"
      ]
     },
     "execution_count": 7,
     "metadata": {},
     "output_type": "execute_result"
    }
   ],
   "source": [
    "annotators_df"
   ]
  },
  {
   "cell_type": "code",
   "execution_count": 8,
   "id": "658decf5",
   "metadata": {},
   "outputs": [
    {
     "data": {
      "text/plain": [
       "OrdinalEncoder()"
      ]
     },
     "execution_count": 8,
     "metadata": {},
     "output_type": "execute_result"
    }
   ],
   "source": [
    "from sklearn.preprocessing import OrdinalEncoder\n",
    "\n",
    "categories = list(set(annotators_df.denis_annotation.drop_duplicates().tolist()+\\\n",
    "             annotators_df.gennady_annotation.drop_duplicates().tolist()+\\\n",
    "             annotators_df.vyacheslav_annotation.drop_duplicates().tolist()))\n",
    "\n",
    "encoder = OrdinalEncoder()\n",
    "encoder.fit(np.array(categories).reshape(-1, 1))"
   ]
  },
  {
   "cell_type": "code",
   "execution_count": 9,
   "id": "19c796d2",
   "metadata": {},
   "outputs": [],
   "source": [
    "annotators_df = annotators_df.copy()\n",
    "annotators_df[\"denis_annotation_labeled\"] = encoder.transform(annotators_df.denis_annotation.values.reshape(-1, 1))\n",
    "annotators_df[\"gennady_annotation_labeled\"] = encoder.transform(annotators_df.gennady_annotation.values.reshape(-1, 1))\n",
    "annotators_df[\"vyacheslav_annotation_labeled\"] = encoder.transform(annotators_df.vyacheslav_annotation.values.reshape(-1, 1))"
   ]
  },
  {
   "cell_type": "code",
   "execution_count": 10,
   "id": "45d8e221",
   "metadata": {},
   "outputs": [
    {
     "data": {
      "text/plain": [
       "0.05105170656944269"
      ]
     },
     "execution_count": 10,
     "metadata": {},
     "output_type": "execute_result"
    }
   ],
   "source": [
    "import krippendorff\n",
    "\n",
    "krippendorff.alpha(reliability_data=annotators_df[[\"denis_annotation_labeled\", \n",
    "                                                   \"gennady_annotation_labeled\", \n",
    "                                                   \"vyacheslav_annotation_labeled\"]], level_of_measurement='nominal')"
   ]
  },
  {
   "cell_type": "code",
   "execution_count": 11,
   "id": "8cbffcc1",
   "metadata": {},
   "outputs": [],
   "source": [
    "annotators_df = annotators_df.dropna()"
   ]
  },
  {
   "cell_type": "code",
   "execution_count": 12,
   "id": "0a8928fc",
   "metadata": {},
   "outputs": [
    {
     "name": "stdout",
     "output_type": "stream",
     "text": [
      "Среднее значение согласия аннотаторов:  0.8698213824410473\n"
     ]
    }
   ],
   "source": [
    "matrix = annotators_df[[\"denis_annotation_labeled\", \n",
    "                        \"gennady_annotation_labeled\", \n",
    "                        \"vyacheslav_annotation_labeled\"]].corr()\n",
    "\n",
    "agreement = matrix.values[np.triu_indices_from(matrix.values, k=1)].mean()\n",
    "\n",
    "# результат\n",
    "print(\"Среднее значение согласия аннотаторов: \", agreement)"
   ]
  },
  {
   "cell_type": "code",
   "execution_count": 13,
   "id": "d1e2a9b9",
   "metadata": {},
   "outputs": [
    {
     "name": "stdout",
     "output_type": "stream",
     "text": [
      "Cohen's kappa coefficient: 0.788650375925894\n"
     ]
    }
   ],
   "source": [
    "from sklearn.metrics import cohen_kappa_score\n",
    "\n",
    "\n",
    "kappa_1 = cohen_kappa_score(annotators_df.denis_annotation_labeled, \n",
    "                          annotators_df.gennady_annotation_labeled, weights=None)\n",
    "\n",
    "kappa_2 = cohen_kappa_score(annotators_df.denis_annotation_labeled, \n",
    "                            annotators_df.vyacheslav_annotation_labeled, weights=None)\n",
    "\n",
    "kappa_3 = cohen_kappa_score(annotators_df.gennady_annotation_labeled, \n",
    "                            annotators_df.vyacheslav_annotation_labeled, weights=None)\n",
    "\n",
    "kappa = (kappa_1+kappa_2+kappa_3)/3\n",
    "\n",
    "print(\"Cohen's kappa coefficient:\", kappa)"
   ]
  }
 ],
 "metadata": {
  "kernelspec": {
   "display_name": "Python 3 (ipykernel)",
   "language": "python",
   "name": "python3"
  },
  "language_info": {
   "codemirror_mode": {
    "name": "ipython",
    "version": 3
   },
   "file_extension": ".py",
   "mimetype": "text/x-python",
   "name": "python",
   "nbconvert_exporter": "python",
   "pygments_lexer": "ipython3",
   "version": "3.9.12"
  }
 },
 "nbformat": 4,
 "nbformat_minor": 5
}
